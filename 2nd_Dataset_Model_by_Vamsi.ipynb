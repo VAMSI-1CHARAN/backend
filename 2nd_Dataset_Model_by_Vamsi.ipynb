{
  "nbformat": 4,
  "nbformat_minor": 0,
  "metadata": {
    "colab": {
      "provenance": []
    },
    "kernelspec": {
      "name": "python3",
      "display_name": "Python 3"
    },
    "language_info": {
      "name": "python"
    }
  },
  "cells": [
    {
      "cell_type": "code",
      "execution_count": null,
      "metadata": {
        "id": "_p0Xx3-SH9g_"
      },
      "outputs": [],
      "source": []
    },
    {
      "cell_type": "code",
      "source": [],
      "metadata": {
        "id": "qU1wcP2o_Wqf"
      },
      "execution_count": null,
      "outputs": []
    },
    {
      "cell_type": "code",
      "source": [
        "import numpy as np\n",
        "import pandas as pd\n",
        "import tensorflow as tf\n",
        "from tensorflow.keras.models import Sequential\n",
        "from tensorflow.keras.layers import GRU, Dense, Dropout\n",
        "from tensorflow.keras.optimizers import Adam\n",
        "from sklearn.model_selection import train_test_split\n",
        "from sklearn.preprocessing import MinMaxScaler"
      ],
      "metadata": {
        "id": "doH7NlsqKqkW"
      },
      "execution_count": null,
      "outputs": []
    },
    {
      "cell_type": "code",
      "source": [
        "# Load the dataset\n",
        "file_path = \"Dataset-2.xlsx\"  # Ensure this file is uploaded to Colab\n",
        "xls = pd.ExcelFile(file_path)\n",
        "df = pd.read_excel(xls, sheet_name='Worksheet')\n"
      ],
      "metadata": {
        "id": "-wp-BfidKoeg"
      },
      "execution_count": null,
      "outputs": []
    },
    {
      "cell_type": "code",
      "source": [
        "# Preprocessing\n",
        "df['status'] = df['status'].map({'legitimate': 0, 'phishing': 1})\n",
        "df.drop(columns=['url'], inplace=True)\n",
        "df.drop_duplicates(inplace=True)"
      ],
      "metadata": {
        "id": "JZYVhsXwKvVC"
      },
      "execution_count": null,
      "outputs": []
    },
    {
      "cell_type": "code",
      "source": [
        "# Selecting key features\n",
        "selected_features = [\n",
        "    'length_url', 'nb_dots', 'nb_hyphens', 'https_token', 'prefix_suffix',\n",
        "    'random_domain', 'shortening_service', 'nb_redirection', 'web_traffic',\n",
        "    'dns_record', 'google_index', 'page_rank', 'domain_age', 'status'\n",
        "]\n",
        "df_selected = df[selected_features]"
      ],
      "metadata": {
        "id": "IUEGhzqxKwNy"
      },
      "execution_count": null,
      "outputs": []
    },
    {
      "cell_type": "code",
      "source": [
        "# Splitting into features (X) and target (y)\n",
        "X = df_selected.drop(columns=['status'])\n",
        "y = df_selected['status']"
      ],
      "metadata": {
        "id": "5Pmy_2YHKyqB"
      },
      "execution_count": null,
      "outputs": []
    },
    {
      "cell_type": "code",
      "source": [
        "# Normalize the data\n",
        "scaler = MinMaxScaler()\n",
        "X = scaler.fit_transform(X)"
      ],
      "metadata": {
        "id": "CuE9BejyK00V"
      },
      "execution_count": null,
      "outputs": []
    },
    {
      "cell_type": "code",
      "source": [
        "# Train-test split\n",
        "X_train, X_test, y_train, y_test = train_test_split(X, y, test_size=0.2, random_state=42, stratify=y)"
      ],
      "metadata": {
        "id": "majBrOleK3og"
      },
      "execution_count": null,
      "outputs": []
    },
    {
      "cell_type": "code",
      "source": [
        "# Reshaping for GRU\n",
        "X_train = X_train.reshape(X_train.shape[0], X_train.shape[1], 1)\n",
        "X_test = X_test.reshape(X_test.shape[0], X_test.shape[1], 1)"
      ],
      "metadata": {
        "id": "ttOTDIBqK6lF"
      },
      "execution_count": null,
      "outputs": []
    },
    {
      "cell_type": "code",
      "source": [
        "# Build the GRU model\n",
        "gru_model = Sequential([\n",
        "    GRU(64, return_sequences=True, input_shape=(X_train.shape[1], 1)),\n",
        "    Dropout(0.3),\n",
        "    GRU(32),\n",
        "    Dropout(0.3),\n",
        "    Dense(1, activation='sigmoid')\n",
        "])"
      ],
      "metadata": {
        "colab": {
          "base_uri": "https://localhost:8080/"
        },
        "id": "mixj95XJK89s",
        "outputId": "3716e62d-4422-4fd1-c0be-497b8a3f080a"
      },
      "execution_count": null,
      "outputs": [
        {
          "output_type": "stream",
          "name": "stderr",
          "text": [
            "/usr/local/lib/python3.11/dist-packages/keras/src/layers/rnn/rnn.py:200: UserWarning: Do not pass an `input_shape`/`input_dim` argument to a layer. When using Sequential models, prefer using an `Input(shape)` object as the first layer in the model instead.\n",
            "  super().__init__(**kwargs)\n"
          ]
        }
      ]
    },
    {
      "cell_type": "code",
      "source": [
        "# Compile the model\n",
        "gru_model.compile(optimizer=Adam(learning_rate=0.001), loss='binary_crossentropy', metrics=['accuracy'])"
      ],
      "metadata": {
        "id": "xvZwa7rFLBSf"
      },
      "execution_count": null,
      "outputs": []
    },
    {
      "cell_type": "code",
      "source": [
        "# Train the model\n",
        "gru_model.fit(X_train, y_train, epochs=20, batch_size=32, validation_data=(X_test, y_test))"
      ],
      "metadata": {
        "colab": {
          "base_uri": "https://localhost:8080/"
        },
        "id": "6qlLwyiMLB8c",
        "outputId": "134e8536-96af-4a2b-fd51-077c132a38bf"
      },
      "execution_count": null,
      "outputs": [
        {
          "output_type": "stream",
          "name": "stdout",
          "text": [
            "Epoch 1/20\n",
            "\u001b[1m282/282\u001b[0m \u001b[32m━━━━━━━━━━━━━━━━━━━━\u001b[0m\u001b[37m\u001b[0m \u001b[1m14s\u001b[0m 23ms/step - accuracy: 0.7165 - loss: 0.5571 - val_accuracy: 0.8419 - val_loss: 0.3740\n",
            "Epoch 2/20\n",
            "\u001b[1m282/282\u001b[0m \u001b[32m━━━━━━━━━━━━━━━━━━━━\u001b[0m\u001b[37m\u001b[0m \u001b[1m5s\u001b[0m 19ms/step - accuracy: 0.8780 - loss: 0.3365 - val_accuracy: 0.8597 - val_loss: 0.3525\n",
            "Epoch 3/20\n",
            "\u001b[1m282/282\u001b[0m \u001b[32m━━━━━━━━━━━━━━━━━━━━\u001b[0m\u001b[37m\u001b[0m \u001b[1m11s\u001b[0m 23ms/step - accuracy: 0.8913 - loss: 0.3053 - val_accuracy: 0.8699 - val_loss: 0.3426\n",
            "Epoch 4/20\n",
            "\u001b[1m282/282\u001b[0m \u001b[32m━━━━━━━━━━━━━━━━━━━━\u001b[0m\u001b[37m\u001b[0m \u001b[1m10s\u001b[0m 23ms/step - accuracy: 0.8865 - loss: 0.3073 - val_accuracy: 0.8761 - val_loss: 0.3340\n",
            "Epoch 5/20\n",
            "\u001b[1m282/282\u001b[0m \u001b[32m━━━━━━━━━━━━━━━━━━━━\u001b[0m\u001b[37m\u001b[0m \u001b[1m9s\u001b[0m 18ms/step - accuracy: 0.8813 - loss: 0.3138 - val_accuracy: 0.8743 - val_loss: 0.3287\n",
            "Epoch 6/20\n",
            "\u001b[1m282/282\u001b[0m \u001b[32m━━━━━━━━━━━━━━━━━━━━\u001b[0m\u001b[37m\u001b[0m \u001b[1m10s\u001b[0m 19ms/step - accuracy: 0.8837 - loss: 0.3145 - val_accuracy: 0.8717 - val_loss: 0.3270\n",
            "Epoch 7/20\n",
            "\u001b[1m282/282\u001b[0m \u001b[32m━━━━━━━━━━━━━━━━━━━━\u001b[0m\u001b[37m\u001b[0m \u001b[1m6s\u001b[0m 23ms/step - accuracy: 0.8945 - loss: 0.2846 - val_accuracy: 0.8659 - val_loss: 0.3137\n",
            "Epoch 8/20\n",
            "\u001b[1m282/282\u001b[0m \u001b[32m━━━━━━━━━━━━━━━━━━━━\u001b[0m\u001b[37m\u001b[0m \u001b[1m5s\u001b[0m 18ms/step - accuracy: 0.8892 - loss: 0.2984 - val_accuracy: 0.8774 - val_loss: 0.3066\n",
            "Epoch 9/20\n",
            "\u001b[1m282/282\u001b[0m \u001b[32m━━━━━━━━━━━━━━━━━━━━\u001b[0m\u001b[37m\u001b[0m \u001b[1m6s\u001b[0m 22ms/step - accuracy: 0.8963 - loss: 0.2876 - val_accuracy: 0.8783 - val_loss: 0.2939\n",
            "Epoch 10/20\n",
            "\u001b[1m282/282\u001b[0m \u001b[32m━━━━━━━━━━━━━━━━━━━━\u001b[0m\u001b[37m\u001b[0m \u001b[1m10s\u001b[0m 20ms/step - accuracy: 0.8957 - loss: 0.2794 - val_accuracy: 0.8810 - val_loss: 0.2918\n",
            "Epoch 11/20\n",
            "\u001b[1m282/282\u001b[0m \u001b[32m━━━━━━━━━━━━━━━━━━━━\u001b[0m\u001b[37m\u001b[0m \u001b[1m7s\u001b[0m 24ms/step - accuracy: 0.8972 - loss: 0.2755 - val_accuracy: 0.8890 - val_loss: 0.2855\n",
            "Epoch 12/20\n",
            "\u001b[1m282/282\u001b[0m \u001b[32m━━━━━━━━━━━━━━━━━━━━\u001b[0m\u001b[37m\u001b[0m \u001b[1m10s\u001b[0m 22ms/step - accuracy: 0.9062 - loss: 0.2644 - val_accuracy: 0.9001 - val_loss: 0.2812\n",
            "Epoch 13/20\n",
            "\u001b[1m282/282\u001b[0m \u001b[32m━━━━━━━━━━━━━━━━━━━━\u001b[0m\u001b[37m\u001b[0m \u001b[1m6s\u001b[0m 20ms/step - accuracy: 0.9057 - loss: 0.2646 - val_accuracy: 0.8939 - val_loss: 0.2858\n",
            "Epoch 14/20\n",
            "\u001b[1m282/282\u001b[0m \u001b[32m━━━━━━━━━━━━━━━━━━━━\u001b[0m\u001b[37m\u001b[0m \u001b[1m6s\u001b[0m 20ms/step - accuracy: 0.9020 - loss: 0.2586 - val_accuracy: 0.8952 - val_loss: 0.2822\n",
            "Epoch 15/20\n",
            "\u001b[1m282/282\u001b[0m \u001b[32m━━━━━━━━━━━━━━━━━━━━\u001b[0m\u001b[37m\u001b[0m \u001b[1m11s\u001b[0m 22ms/step - accuracy: 0.9037 - loss: 0.2629 - val_accuracy: 0.8974 - val_loss: 0.2804\n",
            "Epoch 16/20\n",
            "\u001b[1m282/282\u001b[0m \u001b[32m━━━━━━━━━━━━━━━━━━━━\u001b[0m\u001b[37m\u001b[0m \u001b[1m10s\u001b[0m 20ms/step - accuracy: 0.9069 - loss: 0.2607 - val_accuracy: 0.8965 - val_loss: 0.2866\n",
            "Epoch 17/20\n",
            "\u001b[1m282/282\u001b[0m \u001b[32m━━━━━━━━━━━━━━━━━━━━\u001b[0m\u001b[37m\u001b[0m \u001b[1m7s\u001b[0m 26ms/step - accuracy: 0.9056 - loss: 0.2597 - val_accuracy: 0.9005 - val_loss: 0.2820\n",
            "Epoch 18/20\n",
            "\u001b[1m282/282\u001b[0m \u001b[32m━━━━━━━━━━━━━━━━━━━━\u001b[0m\u001b[37m\u001b[0m \u001b[1m5s\u001b[0m 19ms/step - accuracy: 0.9033 - loss: 0.2658 - val_accuracy: 0.8943 - val_loss: 0.2893\n",
            "Epoch 19/20\n",
            "\u001b[1m282/282\u001b[0m \u001b[32m━━━━━━━━━━━━━━━━━━━━\u001b[0m\u001b[37m\u001b[0m \u001b[1m7s\u001b[0m 24ms/step - accuracy: 0.9090 - loss: 0.2498 - val_accuracy: 0.8974 - val_loss: 0.2790\n",
            "Epoch 20/20\n",
            "\u001b[1m282/282\u001b[0m \u001b[32m━━━━━━━━━━━━━━━━━━━━\u001b[0m\u001b[37m\u001b[0m \u001b[1m9s\u001b[0m 20ms/step - accuracy: 0.9079 - loss: 0.2537 - val_accuracy: 0.9014 - val_loss: 0.2778\n"
          ]
        },
        {
          "output_type": "execute_result",
          "data": {
            "text/plain": [
              "<keras.src.callbacks.history.History at 0x78c9e7972cd0>"
            ]
          },
          "metadata": {},
          "execution_count": 12
        }
      ]
    },
    {
      "cell_type": "code",
      "source": [
        "# Evaluate the model\n",
        "eval_results = gru_model.evaluate(X_test, y_test)\n",
        "print(f\"\\nTest Loss: {eval_results[0]:.4f}, Test Accuracy: {eval_results[1]:.4f}\")\n"
      ],
      "metadata": {
        "colab": {
          "base_uri": "https://localhost:8080/"
        },
        "id": "uV_l1O06LELH",
        "outputId": "29e588ee-2317-4072-969b-c21a78a7710c"
      },
      "execution_count": null,
      "outputs": [
        {
          "output_type": "stream",
          "name": "stdout",
          "text": [
            "\u001b[1m71/71\u001b[0m \u001b[32m━━━━━━━━━━━━━━━━━━━━\u001b[0m\u001b[37m\u001b[0m \u001b[1m1s\u001b[0m 8ms/step - accuracy: 0.9050 - loss: 0.2723\n",
            "\n",
            "Test Loss: 0.2778, Test Accuracy: 0.9014\n"
          ]
        }
      ]
    },
    {
      "cell_type": "code",
      "source": [
        "import numpy as np\n",
        "import pandas as pd\n",
        "import tensorflow as tf\n",
        "from tensorflow.keras.models import Sequential\n",
        "from tensorflow.keras.layers import GRU, Conv1D, Flatten, Dense, Dropout, MaxPooling1D\n",
        "from tensorflow.keras.optimizers import Adam\n",
        "from sklearn.model_selection import train_test_split\n",
        "from sklearn.preprocessing import MinMaxScaler\n"
      ],
      "metadata": {
        "id": "odiJZDMQNAsZ"
      },
      "execution_count": null,
      "outputs": []
    },
    {
      "cell_type": "code",
      "source": [
        "# Load the dataset\n",
        "file_path = \"Dataset-2.xlsx\"  # Ensure this file is uploaded to Colab\n",
        "xls = pd.ExcelFile(file_path)\n",
        "df = pd.read_excel(xls, sheet_name='Worksheet')"
      ],
      "metadata": {
        "id": "5mqhY9KnNBng"
      },
      "execution_count": null,
      "outputs": []
    },
    {
      "cell_type": "code",
      "source": [
        "# Preprocessing\n",
        "df['status'] = df['status'].map({'legitimate': 0, 'phishing': 1})\n",
        "df.drop(columns=['url'], inplace=True)\n",
        "df.drop_duplicates(inplace=True)\n"
      ],
      "metadata": {
        "id": "Ud655tdnNDu7"
      },
      "execution_count": null,
      "outputs": []
    },
    {
      "cell_type": "code",
      "source": [
        "# Selecting key features\n",
        "selected_features = [\n",
        "    'length_url', 'nb_dots', 'nb_hyphens', 'https_token', 'prefix_suffix',\n",
        "    'random_domain', 'shortening_service', 'nb_redirection', 'web_traffic',\n",
        "    'dns_record', 'google_index', 'page_rank', 'domain_age', 'status'\n",
        "]\n",
        "df_selected = df[selected_features]\n"
      ],
      "metadata": {
        "id": "GntQlt9gNGAu"
      },
      "execution_count": null,
      "outputs": []
    },
    {
      "cell_type": "code",
      "source": [
        "# Splitting into features (X) and target (y)\n",
        "X = df_selected.drop(columns=['status'])\n",
        "y = df_selected['status']"
      ],
      "metadata": {
        "id": "kdVhdp6_NIs5"
      },
      "execution_count": null,
      "outputs": []
    },
    {
      "cell_type": "code",
      "source": [
        "# Normalize the data\n",
        "scaler = MinMaxScaler()\n",
        "X = scaler.fit_transform(X)"
      ],
      "metadata": {
        "id": "_sSs8-5XNLOF"
      },
      "execution_count": null,
      "outputs": []
    },
    {
      "cell_type": "code",
      "source": [
        "# Train-test split\n",
        "X_train, X_test, y_train, y_test = train_test_split(X, y, test_size=0.2, random_state=42, stratify=y)"
      ],
      "metadata": {
        "id": "lARA4dfvNPNU"
      },
      "execution_count": null,
      "outputs": []
    },
    {
      "cell_type": "code",
      "source": [
        "# Reshaping for GRU and CNN\n",
        "X_train = X_train.reshape(X_train.shape[0], X_train.shape[1], 1)\n",
        "X_test = X_test.reshape(X_test.shape[0], X_test.shape[1], 1)"
      ],
      "metadata": {
        "id": "B3sDgAoKNRcy"
      },
      "execution_count": null,
      "outputs": []
    },
    {
      "cell_type": "code",
      "source": [
        "# Build the GRU model\n",
        "gru_model = Sequential([\n",
        "    GRU(64, return_sequences=True, input_shape=(X_train.shape[1], 1)),\n",
        "    Dropout(0.3),\n",
        "    GRU(32),\n",
        "    Dropout(0.3),\n",
        "    Dense(1, activation='sigmoid')\n",
        "])"
      ],
      "metadata": {
        "colab": {
          "base_uri": "https://localhost:8080/"
        },
        "id": "9zstw61TNX0F",
        "outputId": "e39fc559-b3f2-440d-da14-287d9cf585a8"
      },
      "execution_count": null,
      "outputs": [
        {
          "output_type": "stream",
          "name": "stderr",
          "text": [
            "/usr/local/lib/python3.11/dist-packages/keras/src/layers/rnn/rnn.py:200: UserWarning: Do not pass an `input_shape`/`input_dim` argument to a layer. When using Sequential models, prefer using an `Input(shape)` object as the first layer in the model instead.\n",
            "  super().__init__(**kwargs)\n"
          ]
        }
      ]
    },
    {
      "cell_type": "code",
      "source": [
        "# Compile the GRU model\n",
        "gru_model.compile(optimizer=Adam(learning_rate=0.001), loss='binary_crossentropy', metrics=['accuracy'])"
      ],
      "metadata": {
        "id": "lrEWztWONazx"
      },
      "execution_count": null,
      "outputs": []
    },
    {
      "cell_type": "code",
      "source": [
        "# Train the GRU model\n",
        "gru_model.fit(X_train, y_train, epochs=20, batch_size=32, validation_data=(X_test, y_test))"
      ],
      "metadata": {
        "colab": {
          "base_uri": "https://localhost:8080/"
        },
        "id": "Imwnktd-Ndkb",
        "outputId": "f2cdb532-706e-49d0-9ab7-59f566e615ae"
      },
      "execution_count": null,
      "outputs": [
        {
          "output_type": "stream",
          "name": "stdout",
          "text": [
            "Epoch 1/20\n",
            "\u001b[1m282/282\u001b[0m \u001b[32m━━━━━━━━━━━━━━━━━━━━\u001b[0m\u001b[37m\u001b[0m \u001b[1m12s\u001b[0m 22ms/step - accuracy: 0.7593 - loss: 0.5541 - val_accuracy: 0.8490 - val_loss: 0.3733\n",
            "Epoch 2/20\n",
            "\u001b[1m282/282\u001b[0m \u001b[32m━━━━━━━━━━━━━━━━━━━━\u001b[0m\u001b[37m\u001b[0m \u001b[1m7s\u001b[0m 24ms/step - accuracy: 0.8730 - loss: 0.3398 - val_accuracy: 0.8668 - val_loss: 0.3541\n",
            "Epoch 3/20\n",
            "\u001b[1m282/282\u001b[0m \u001b[32m━━━━━━━━━━━━━━━━━━━━\u001b[0m\u001b[37m\u001b[0m \u001b[1m9s\u001b[0m 21ms/step - accuracy: 0.8908 - loss: 0.3195 - val_accuracy: 0.8708 - val_loss: 0.3413\n",
            "Epoch 4/20\n",
            "\u001b[1m282/282\u001b[0m \u001b[32m━━━━━━━━━━━━━━━━━━━━\u001b[0m\u001b[37m\u001b[0m \u001b[1m6s\u001b[0m 21ms/step - accuracy: 0.8883 - loss: 0.3129 - val_accuracy: 0.8579 - val_loss: 0.3431\n",
            "Epoch 5/20\n",
            "\u001b[1m282/282\u001b[0m \u001b[32m━━━━━━━━━━━━━━━━━━━━\u001b[0m\u001b[37m\u001b[0m \u001b[1m11s\u001b[0m 23ms/step - accuracy: 0.8930 - loss: 0.2961 - val_accuracy: 0.8757 - val_loss: 0.3211\n",
            "Epoch 6/20\n",
            "\u001b[1m282/282\u001b[0m \u001b[32m━━━━━━━━━━━━━━━━━━━━\u001b[0m\u001b[37m\u001b[0m \u001b[1m10s\u001b[0m 22ms/step - accuracy: 0.8851 - loss: 0.3087 - val_accuracy: 0.8774 - val_loss: 0.3136\n",
            "Epoch 7/20\n",
            "\u001b[1m282/282\u001b[0m \u001b[32m━━━━━━━━━━━━━━━━━━━━\u001b[0m\u001b[37m\u001b[0m \u001b[1m5s\u001b[0m 19ms/step - accuracy: 0.8860 - loss: 0.2972 - val_accuracy: 0.8761 - val_loss: 0.3052\n",
            "Epoch 8/20\n",
            "\u001b[1m282/282\u001b[0m \u001b[32m━━━━━━━━━━━━━━━━━━━━\u001b[0m\u001b[37m\u001b[0m \u001b[1m12s\u001b[0m 24ms/step - accuracy: 0.8899 - loss: 0.2939 - val_accuracy: 0.8859 - val_loss: 0.2950\n",
            "Epoch 9/20\n",
            "\u001b[1m282/282\u001b[0m \u001b[32m━━━━━━━━━━━━━━━━━━━━\u001b[0m\u001b[37m\u001b[0m \u001b[1m6s\u001b[0m 20ms/step - accuracy: 0.8993 - loss: 0.2715 - val_accuracy: 0.8921 - val_loss: 0.2947\n",
            "Epoch 10/20\n",
            "\u001b[1m282/282\u001b[0m \u001b[32m━━━━━━━━━━━━━━━━━━━━\u001b[0m\u001b[37m\u001b[0m \u001b[1m7s\u001b[0m 24ms/step - accuracy: 0.8966 - loss: 0.2740 - val_accuracy: 0.8934 - val_loss: 0.2896\n",
            "Epoch 11/20\n",
            "\u001b[1m282/282\u001b[0m \u001b[32m━━━━━━━━━━━━━━━━━━━━\u001b[0m\u001b[37m\u001b[0m \u001b[1m5s\u001b[0m 19ms/step - accuracy: 0.9010 - loss: 0.2662 - val_accuracy: 0.8992 - val_loss: 0.2909\n",
            "Epoch 12/20\n",
            "\u001b[1m282/282\u001b[0m \u001b[32m━━━━━━━━━━━━━━━━━━━━\u001b[0m\u001b[37m\u001b[0m \u001b[1m11s\u001b[0m 20ms/step - accuracy: 0.9060 - loss: 0.2583 - val_accuracy: 0.8961 - val_loss: 0.2885\n",
            "Epoch 13/20\n",
            "\u001b[1m282/282\u001b[0m \u001b[32m━━━━━━━━━━━━━━━━━━━━\u001b[0m\u001b[37m\u001b[0m \u001b[1m10s\u001b[0m 20ms/step - accuracy: 0.9054 - loss: 0.2622 - val_accuracy: 0.8974 - val_loss: 0.2850\n",
            "Epoch 14/20\n",
            "\u001b[1m282/282\u001b[0m \u001b[32m━━━━━━━━━━━━━━━━━━━━\u001b[0m\u001b[37m\u001b[0m \u001b[1m11s\u001b[0m 23ms/step - accuracy: 0.9126 - loss: 0.2496 - val_accuracy: 0.8930 - val_loss: 0.2859\n",
            "Epoch 15/20\n",
            "\u001b[1m282/282\u001b[0m \u001b[32m━━━━━━━━━━━━━━━━━━━━\u001b[0m\u001b[37m\u001b[0m \u001b[1m10s\u001b[0m 23ms/step - accuracy: 0.9045 - loss: 0.2617 - val_accuracy: 0.9014 - val_loss: 0.2824\n",
            "Epoch 16/20\n",
            "\u001b[1m282/282\u001b[0m \u001b[32m━━━━━━━━━━━━━━━━━━━━\u001b[0m\u001b[37m\u001b[0m \u001b[1m9s\u001b[0m 20ms/step - accuracy: 0.9018 - loss: 0.2721 - val_accuracy: 0.9014 - val_loss: 0.2770\n",
            "Epoch 17/20\n",
            "\u001b[1m282/282\u001b[0m \u001b[32m━━━━━━━━━━━━━━━━━━━━\u001b[0m\u001b[37m\u001b[0m \u001b[1m6s\u001b[0m 22ms/step - accuracy: 0.9111 - loss: 0.2469 - val_accuracy: 0.8956 - val_loss: 0.2897\n",
            "Epoch 18/20\n",
            "\u001b[1m282/282\u001b[0m \u001b[32m━━━━━━━━━━━━━━━━━━━━\u001b[0m\u001b[37m\u001b[0m \u001b[1m11s\u001b[0m 23ms/step - accuracy: 0.9039 - loss: 0.2621 - val_accuracy: 0.9028 - val_loss: 0.2786\n",
            "Epoch 19/20\n",
            "\u001b[1m282/282\u001b[0m \u001b[32m━━━━━━━━━━━━━━━━━━━━\u001b[0m\u001b[37m\u001b[0m \u001b[1m6s\u001b[0m 20ms/step - accuracy: 0.9099 - loss: 0.2597 - val_accuracy: 0.9019 - val_loss: 0.2775\n",
            "Epoch 20/20\n",
            "\u001b[1m282/282\u001b[0m \u001b[32m━━━━━━━━━━━━━━━━━━━━\u001b[0m\u001b[37m\u001b[0m \u001b[1m7s\u001b[0m 24ms/step - accuracy: 0.9111 - loss: 0.2554 - val_accuracy: 0.8988 - val_loss: 0.2798\n"
          ]
        },
        {
          "output_type": "execute_result",
          "data": {
            "text/plain": [
              "<keras.src.callbacks.history.History at 0x78c9e697d210>"
            ]
          },
          "metadata": {},
          "execution_count": 24
        }
      ]
    },
    {
      "cell_type": "code",
      "source": [
        "# Evaluate the GRU model\n",
        "eval_results_gru = gru_model.evaluate(X_test, y_test)\n",
        "print(f\"\\nGRU Test Loss: {eval_results_gru[0]:.4f}, Test Accuracy: {eval_results_gru[1]:.4f}\")"
      ],
      "metadata": {
        "colab": {
          "base_uri": "https://localhost:8080/"
        },
        "id": "W_zZcribNgYf",
        "outputId": "d55e9cfe-fed9-46c0-9303-b18589d1fb38"
      },
      "execution_count": null,
      "outputs": [
        {
          "output_type": "stream",
          "name": "stdout",
          "text": [
            "\u001b[1m71/71\u001b[0m \u001b[32m━━━━━━━━━━━━━━━━━━━━\u001b[0m\u001b[37m\u001b[0m \u001b[1m0s\u001b[0m 6ms/step - accuracy: 0.8994 - loss: 0.2813\n",
            "\n",
            "GRU Test Loss: 0.2798, Test Accuracy: 0.8988\n"
          ]
        }
      ]
    },
    {
      "cell_type": "code",
      "source": [
        "# Build the CNN model\n",
        "cnn_model = Sequential([\n",
        "    Conv1D(64, kernel_size=3, activation='relu', input_shape=(X_train.shape[1], 1)),\n",
        "    MaxPooling1D(pool_size=2),\n",
        "    Dropout(0.3),\n",
        "    Conv1D(32, kernel_size=3, activation='relu'),\n",
        "    MaxPooling1D(pool_size=2),\n",
        "    Dropout(0.3),\n",
        "    Flatten(),\n",
        "    Dense(32, activation='relu'),\n",
        "    Dropout(0.3),\n",
        "    Dense(1, activation='sigmoid')\n",
        "])"
      ],
      "metadata": {
        "colab": {
          "base_uri": "https://localhost:8080/"
        },
        "id": "NwH2NPRzNi83",
        "outputId": "a9f74c24-7ec4-4ea6-ea42-0ce1817fc367"
      },
      "execution_count": null,
      "outputs": [
        {
          "output_type": "stream",
          "name": "stderr",
          "text": [
            "/usr/local/lib/python3.11/dist-packages/keras/src/layers/convolutional/base_conv.py:107: UserWarning: Do not pass an `input_shape`/`input_dim` argument to a layer. When using Sequential models, prefer using an `Input(shape)` object as the first layer in the model instead.\n",
            "  super().__init__(activity_regularizer=activity_regularizer, **kwargs)\n"
          ]
        }
      ]
    },
    {
      "cell_type": "code",
      "source": [
        "# Compile the CNN model\n",
        "cnn_model.compile(optimizer=Adam(learning_rate=0.001), loss='binary_crossentropy', metrics=['accuracy'])"
      ],
      "metadata": {
        "id": "N4XMTSntNl31"
      },
      "execution_count": null,
      "outputs": []
    },
    {
      "cell_type": "code",
      "source": [
        "# Train the CNN model\n",
        "cnn_model.fit(X_train, y_train, epochs=20, batch_size=32, validation_data=(X_test, y_test))\n"
      ],
      "metadata": {
        "colab": {
          "base_uri": "https://localhost:8080/"
        },
        "id": "wACBYGHuNo-Y",
        "outputId": "9b358b83-63a5-44a6-f0ec-d2afbb69ec55"
      },
      "execution_count": null,
      "outputs": [
        {
          "output_type": "stream",
          "name": "stdout",
          "text": [
            "Epoch 1/20\n",
            "\u001b[1m282/282\u001b[0m \u001b[32m━━━━━━━━━━━━━━━━━━━━\u001b[0m\u001b[37m\u001b[0m \u001b[1m3s\u001b[0m 5ms/step - accuracy: 0.5817 - loss: 0.6808 - val_accuracy: 0.6590 - val_loss: 0.6478\n",
            "Epoch 2/20\n",
            "\u001b[1m282/282\u001b[0m \u001b[32m━━━━━━━━━━━━━━━━━━━━\u001b[0m\u001b[37m\u001b[0m \u001b[1m1s\u001b[0m 4ms/step - accuracy: 0.6284 - loss: 0.6504 - val_accuracy: 0.6359 - val_loss: 0.6323\n",
            "Epoch 3/20\n",
            "\u001b[1m282/282\u001b[0m \u001b[32m━━━━━━━━━━━━━━━━━━━━\u001b[0m\u001b[37m\u001b[0m \u001b[1m2s\u001b[0m 7ms/step - accuracy: 0.6402 - loss: 0.6356 - val_accuracy: 0.6532 - val_loss: 0.6197\n",
            "Epoch 4/20\n",
            "\u001b[1m282/282\u001b[0m \u001b[32m━━━━━━━━━━━━━━━━━━━━\u001b[0m\u001b[37m\u001b[0m \u001b[1m2s\u001b[0m 4ms/step - accuracy: 0.6649 - loss: 0.6233 - val_accuracy: 0.6781 - val_loss: 0.6093\n",
            "Epoch 5/20\n",
            "\u001b[1m282/282\u001b[0m \u001b[32m━━━━━━━━━━━━━━━━━━━━\u001b[0m\u001b[37m\u001b[0m \u001b[1m1s\u001b[0m 5ms/step - accuracy: 0.6696 - loss: 0.6137 - val_accuracy: 0.6781 - val_loss: 0.6038\n",
            "Epoch 6/20\n",
            "\u001b[1m282/282\u001b[0m \u001b[32m━━━━━━━━━━━━━━━━━━━━\u001b[0m\u001b[37m\u001b[0m \u001b[1m2s\u001b[0m 4ms/step - accuracy: 0.6816 - loss: 0.6085 - val_accuracy: 0.6727 - val_loss: 0.6077\n",
            "Epoch 7/20\n",
            "\u001b[1m282/282\u001b[0m \u001b[32m━━━━━━━━━━━━━━━━━━━━\u001b[0m\u001b[37m\u001b[0m \u001b[1m1s\u001b[0m 5ms/step - accuracy: 0.6769 - loss: 0.6122 - val_accuracy: 0.6896 - val_loss: 0.5922\n",
            "Epoch 8/20\n",
            "\u001b[1m282/282\u001b[0m \u001b[32m━━━━━━━━━━━━━━━━━━━━\u001b[0m\u001b[37m\u001b[0m \u001b[1m1s\u001b[0m 5ms/step - accuracy: 0.6820 - loss: 0.6082 - val_accuracy: 0.6998 - val_loss: 0.5871\n",
            "Epoch 9/20\n",
            "\u001b[1m282/282\u001b[0m \u001b[32m━━━━━━━━━━━━━━━━━━━━\u001b[0m\u001b[37m\u001b[0m \u001b[1m1s\u001b[0m 4ms/step - accuracy: 0.6840 - loss: 0.5995 - val_accuracy: 0.6976 - val_loss: 0.5832\n",
            "Epoch 10/20\n",
            "\u001b[1m282/282\u001b[0m \u001b[32m━━━━━━━━━━━━━━━━━━━━\u001b[0m\u001b[37m\u001b[0m \u001b[1m2s\u001b[0m 5ms/step - accuracy: 0.6867 - loss: 0.5958 - val_accuracy: 0.7109 - val_loss: 0.5794\n",
            "Epoch 11/20\n",
            "\u001b[1m282/282\u001b[0m \u001b[32m━━━━━━━━━━━━━━━━━━━━\u001b[0m\u001b[37m\u001b[0m \u001b[1m2s\u001b[0m 7ms/step - accuracy: 0.6961 - loss: 0.5910 - val_accuracy: 0.7074 - val_loss: 0.5760\n",
            "Epoch 12/20\n",
            "\u001b[1m282/282\u001b[0m \u001b[32m━━━━━━━━━━━━━━━━━━━━\u001b[0m\u001b[37m\u001b[0m \u001b[1m1s\u001b[0m 5ms/step - accuracy: 0.7014 - loss: 0.5842 - val_accuracy: 0.7074 - val_loss: 0.5728\n",
            "Epoch 13/20\n",
            "\u001b[1m282/282\u001b[0m \u001b[32m━━━━━━━━━━━━━━━━━━━━\u001b[0m\u001b[37m\u001b[0m \u001b[1m2s\u001b[0m 4ms/step - accuracy: 0.6911 - loss: 0.5880 - val_accuracy: 0.7171 - val_loss: 0.5693\n",
            "Epoch 14/20\n",
            "\u001b[1m282/282\u001b[0m \u001b[32m━━━━━━━━━━━━━━━━━━━━\u001b[0m\u001b[37m\u001b[0m \u001b[1m3s\u001b[0m 5ms/step - accuracy: 0.7001 - loss: 0.5843 - val_accuracy: 0.7145 - val_loss: 0.5664\n",
            "Epoch 15/20\n",
            "\u001b[1m282/282\u001b[0m \u001b[32m━━━━━━━━━━━━━━━━━━━━\u001b[0m\u001b[37m\u001b[0m \u001b[1m3s\u001b[0m 5ms/step - accuracy: 0.7010 - loss: 0.5805 - val_accuracy: 0.7140 - val_loss: 0.5634\n",
            "Epoch 16/20\n",
            "\u001b[1m282/282\u001b[0m \u001b[32m━━━━━━━━━━━━━━━━━━━━\u001b[0m\u001b[37m\u001b[0m \u001b[1m1s\u001b[0m 5ms/step - accuracy: 0.7025 - loss: 0.5863 - val_accuracy: 0.7078 - val_loss: 0.5721\n",
            "Epoch 17/20\n",
            "\u001b[1m282/282\u001b[0m \u001b[32m━━━━━━━━━━━━━━━━━━━━\u001b[0m\u001b[37m\u001b[0m \u001b[1m2s\u001b[0m 7ms/step - accuracy: 0.7063 - loss: 0.5695 - val_accuracy: 0.7278 - val_loss: 0.5525\n",
            "Epoch 18/20\n",
            "\u001b[1m282/282\u001b[0m \u001b[32m━━━━━━━━━━━━━━━━━━━━\u001b[0m\u001b[37m\u001b[0m \u001b[1m2s\u001b[0m 4ms/step - accuracy: 0.7089 - loss: 0.5688 - val_accuracy: 0.7007 - val_loss: 0.5676\n",
            "Epoch 19/20\n",
            "\u001b[1m282/282\u001b[0m \u001b[32m━━━━━━━━━━━━━━━━━━━━\u001b[0m\u001b[37m\u001b[0m \u001b[1m1s\u001b[0m 5ms/step - accuracy: 0.7076 - loss: 0.5764 - val_accuracy: 0.7345 - val_loss: 0.5494\n",
            "Epoch 20/20\n",
            "\u001b[1m282/282\u001b[0m \u001b[32m━━━━━━━━━━━━━━━━━━━━\u001b[0m\u001b[37m\u001b[0m \u001b[1m1s\u001b[0m 4ms/step - accuracy: 0.7037 - loss: 0.5742 - val_accuracy: 0.7340 - val_loss: 0.5490\n"
          ]
        },
        {
          "output_type": "execute_result",
          "data": {
            "text/plain": [
              "<keras.src.callbacks.history.History at 0x78c9de8dd550>"
            ]
          },
          "metadata": {},
          "execution_count": 28
        }
      ]
    },
    {
      "cell_type": "code",
      "source": [
        "# Evaluate the CNN model\n",
        "eval_results_cnn = cnn_model.evaluate(X_test, y_test)\n",
        "print(f\"\\nCNN Test Loss: {eval_results_cnn[0]:.4f}, Test Accuracy: {eval_results_cnn[1]:.4f}\")\n"
      ],
      "metadata": {
        "colab": {
          "base_uri": "https://localhost:8080/"
        },
        "id": "ye1R9FbnNr3r",
        "outputId": "dfda0802-ad08-4a7b-b3dd-2945d75b7473"
      },
      "execution_count": null,
      "outputs": [
        {
          "output_type": "stream",
          "name": "stdout",
          "text": [
            "\u001b[1m71/71\u001b[0m \u001b[32m━━━━━━━━━━━━━━━━━━━━\u001b[0m\u001b[37m\u001b[0m \u001b[1m0s\u001b[0m 3ms/step - accuracy: 0.7409 - loss: 0.5349\n",
            "\n",
            "CNN Test Loss: 0.5490, Test Accuracy: 0.7340\n"
          ]
        }
      ]
    },
    {
      "cell_type": "code",
      "source": [
        "import numpy as np\n",
        "import pandas as pd\n",
        "import tensorflow as tf\n",
        "from tensorflow.keras.models import Sequential\n",
        "from tensorflow.keras.layers import GRU, Conv1D, Flatten, Dense, Dropout, MaxPooling1D\n",
        "from tensorflow.keras.optimizers import Adam\n",
        "from sklearn.model_selection import train_test_split\n",
        "from sklearn.preprocessing import MinMaxScaler"
      ],
      "metadata": {
        "id": "AwkgsIHdPjNt"
      },
      "execution_count": null,
      "outputs": []
    },
    {
      "cell_type": "code",
      "source": [
        "# Load the dataset\n",
        "file_path = \"Dataset-2.xlsx\"  # Ensure this file is uploaded to Colab\n",
        "xls = pd.ExcelFile(file_path)\n",
        "df = pd.read_excel(xls, sheet_name='Worksheet')"
      ],
      "metadata": {
        "id": "J1UPgyN1Pmjg"
      },
      "execution_count": null,
      "outputs": []
    },
    {
      "cell_type": "code",
      "source": [
        "# Preprocessing\n",
        "df['status'] = df['status'].map({'legitimate': 0, 'phishing': 1})\n",
        "df.drop(columns=['url'], inplace=True)\n",
        "df.drop_duplicates(inplace=True)\n"
      ],
      "metadata": {
        "id": "lC2eTK_PPo_d"
      },
      "execution_count": null,
      "outputs": []
    },
    {
      "cell_type": "code",
      "source": [
        "# Selecting key features\n",
        "selected_features = [\n",
        "    'length_url', 'nb_dots', 'nb_hyphens', 'https_token', 'prefix_suffix',\n",
        "    'random_domain', 'shortening_service', 'nb_redirection', 'web_traffic',\n",
        "    'dns_record', 'google_index', 'page_rank', 'domain_age', 'status'\n",
        "]\n",
        "df_selected = df[selected_features]"
      ],
      "metadata": {
        "id": "Hqp1ViSrPrjh"
      },
      "execution_count": null,
      "outputs": []
    },
    {
      "cell_type": "code",
      "source": [
        "# Splitting into features (X) and target (y)\n",
        "X = df_selected.drop(columns=['status'])\n",
        "y = df_selected['status']\n"
      ],
      "metadata": {
        "id": "cBlCvgacPuZj"
      },
      "execution_count": null,
      "outputs": []
    },
    {
      "cell_type": "code",
      "source": [
        "# Normalize the data\n",
        "scaler = MinMaxScaler()\n",
        "X = scaler.fit_transform(X)"
      ],
      "metadata": {
        "id": "B-iqYY6vPxM_"
      },
      "execution_count": null,
      "outputs": []
    },
    {
      "cell_type": "code",
      "source": [
        "# Train-test split\n",
        "X_train, X_test, y_train, y_test = train_test_split(X, y, test_size=0.2, random_state=42, stratify=y)\n"
      ],
      "metadata": {
        "id": "bltMCnWtPzSm"
      },
      "execution_count": null,
      "outputs": []
    },
    {
      "cell_type": "code",
      "source": [
        "# Reshaping for deep learning models\n",
        "X_train = X_train.reshape(X_train.shape[0], X_train.shape[1], 1)\n",
        "X_test = X_test.reshape(X_test.shape[0], X_test.shape[1], 1)"
      ],
      "metadata": {
        "id": "8otyy5GPP1eM"
      },
      "execution_count": null,
      "outputs": []
    },
    {
      "cell_type": "code",
      "source": [
        "# Build the Hybrid CNN-GRU model\n",
        "hybrid_model = Sequential([\n",
        "    Conv1D(64, kernel_size=3, activation='relu', input_shape=(X_train.shape[1], 1)),\n",
        "    MaxPooling1D(pool_size=2),\n",
        "    Dropout(0.3),\n",
        "    GRU(64, return_sequences=True),\n",
        "    Dropout(0.3),\n",
        "    GRU(32),\n",
        "    Dropout(0.3),\n",
        "    Flatten(),\n",
        "    Dense(32, activation='relu'),\n",
        "    Dropout(0.3),\n",
        "    Dense(1, activation='sigmoid')\n",
        "])"
      ],
      "metadata": {
        "colab": {
          "base_uri": "https://localhost:8080/"
        },
        "id": "UzKxsK6vP39B",
        "outputId": "87878504-b6e0-4ee3-ddd8-38522811e156"
      },
      "execution_count": null,
      "outputs": [
        {
          "output_type": "stream",
          "name": "stderr",
          "text": [
            "/usr/local/lib/python3.11/dist-packages/keras/src/layers/convolutional/base_conv.py:107: UserWarning: Do not pass an `input_shape`/`input_dim` argument to a layer. When using Sequential models, prefer using an `Input(shape)` object as the first layer in the model instead.\n",
            "  super().__init__(activity_regularizer=activity_regularizer, **kwargs)\n"
          ]
        }
      ]
    },
    {
      "cell_type": "code",
      "source": [
        "# Compile the Hybrid model\n",
        "hybrid_model.compile(optimizer=Adam(learning_rate=0.001), loss='binary_crossentropy', metrics=['accuracy'])"
      ],
      "metadata": {
        "id": "TzSWb_lrP6fB"
      },
      "execution_count": null,
      "outputs": []
    },
    {
      "cell_type": "code",
      "source": [
        "# Train the Hybrid model\n",
        "hybrid_model.fit(X_train, y_train, epochs=20, batch_size=32, validation_data=(X_test, y_test))"
      ],
      "metadata": {
        "colab": {
          "base_uri": "https://localhost:8080/"
        },
        "id": "Ps7bzFjsP9mg",
        "outputId": "75b51a64-5728-4438-ba56-a6f9b6dbf204"
      },
      "execution_count": null,
      "outputs": [
        {
          "output_type": "stream",
          "name": "stdout",
          "text": [
            "Epoch 1/20\n",
            "\u001b[1m282/282\u001b[0m \u001b[32m━━━━━━━━━━━━━━━━━━━━\u001b[0m\u001b[37m\u001b[0m \u001b[1m11s\u001b[0m 18ms/step - accuracy: 0.7196 - loss: 0.5513 - val_accuracy: 0.8428 - val_loss: 0.3712\n",
            "Epoch 2/20\n",
            "\u001b[1m282/282\u001b[0m \u001b[32m━━━━━━━━━━━━━━━━━━━━\u001b[0m\u001b[37m\u001b[0m \u001b[1m8s\u001b[0m 11ms/step - accuracy: 0.8755 - loss: 0.3390 - val_accuracy: 0.8650 - val_loss: 0.3465\n",
            "Epoch 3/20\n",
            "\u001b[1m282/282\u001b[0m \u001b[32m━━━━━━━━━━━━━━━━━━━━\u001b[0m\u001b[37m\u001b[0m \u001b[1m4s\u001b[0m 16ms/step - accuracy: 0.8744 - loss: 0.3303 - val_accuracy: 0.8681 - val_loss: 0.3426\n",
            "Epoch 4/20\n",
            "\u001b[1m282/282\u001b[0m \u001b[32m━━━━━━━━━━━━━━━━━━━━\u001b[0m\u001b[37m\u001b[0m \u001b[1m4s\u001b[0m 11ms/step - accuracy: 0.8827 - loss: 0.3172 - val_accuracy: 0.8766 - val_loss: 0.3388\n",
            "Epoch 5/20\n",
            "\u001b[1m282/282\u001b[0m \u001b[32m━━━━━━━━━━━━━━━━━━━━\u001b[0m\u001b[37m\u001b[0m \u001b[1m3s\u001b[0m 11ms/step - accuracy: 0.8831 - loss: 0.3260 - val_accuracy: 0.8770 - val_loss: 0.3387\n",
            "Epoch 6/20\n",
            "\u001b[1m282/282\u001b[0m \u001b[32m━━━━━━━━━━━━━━━━━━━━\u001b[0m\u001b[37m\u001b[0m \u001b[1m4s\u001b[0m 15ms/step - accuracy: 0.8854 - loss: 0.3125 - val_accuracy: 0.8734 - val_loss: 0.3399\n",
            "Epoch 7/20\n",
            "\u001b[1m282/282\u001b[0m \u001b[32m━━━━━━━━━━━━━━━━━━━━\u001b[0m\u001b[37m\u001b[0m \u001b[1m4s\u001b[0m 11ms/step - accuracy: 0.8818 - loss: 0.3268 - val_accuracy: 0.8774 - val_loss: 0.3339\n",
            "Epoch 8/20\n",
            "\u001b[1m282/282\u001b[0m \u001b[32m━━━━━━━━━━━━━━━━━━━━\u001b[0m\u001b[37m\u001b[0m \u001b[1m5s\u001b[0m 11ms/step - accuracy: 0.8862 - loss: 0.3134 - val_accuracy: 0.8734 - val_loss: 0.3305\n",
            "Epoch 9/20\n",
            "\u001b[1m282/282\u001b[0m \u001b[32m━━━━━━━━━━━━━━━━━━━━\u001b[0m\u001b[37m\u001b[0m \u001b[1m5s\u001b[0m 16ms/step - accuracy: 0.8892 - loss: 0.3053 - val_accuracy: 0.8783 - val_loss: 0.3311\n",
            "Epoch 10/20\n",
            "\u001b[1m282/282\u001b[0m \u001b[32m━━━━━━━━━━━━━━━━━━━━\u001b[0m\u001b[37m\u001b[0m \u001b[1m4s\u001b[0m 11ms/step - accuracy: 0.8878 - loss: 0.3115 - val_accuracy: 0.8739 - val_loss: 0.3283\n",
            "Epoch 11/20\n",
            "\u001b[1m282/282\u001b[0m \u001b[32m━━━━━━━━━━━━━━━━━━━━\u001b[0m\u001b[37m\u001b[0m \u001b[1m3s\u001b[0m 11ms/step - accuracy: 0.8836 - loss: 0.3205 - val_accuracy: 0.8783 - val_loss: 0.3291\n",
            "Epoch 12/20\n",
            "\u001b[1m282/282\u001b[0m \u001b[32m━━━━━━━━━━━━━━━━━━━━\u001b[0m\u001b[37m\u001b[0m \u001b[1m4s\u001b[0m 14ms/step - accuracy: 0.8847 - loss: 0.3061 - val_accuracy: 0.8739 - val_loss: 0.3278\n",
            "Epoch 13/20\n",
            "\u001b[1m282/282\u001b[0m \u001b[32m━━━━━━━━━━━━━━━━━━━━\u001b[0m\u001b[37m\u001b[0m \u001b[1m4s\u001b[0m 13ms/step - accuracy: 0.8851 - loss: 0.3048 - val_accuracy: 0.8761 - val_loss: 0.3170\n",
            "Epoch 14/20\n",
            "\u001b[1m282/282\u001b[0m \u001b[32m━━━━━━━━━━━━━━━━━━━━\u001b[0m\u001b[37m\u001b[0m \u001b[1m3s\u001b[0m 12ms/step - accuracy: 0.8874 - loss: 0.3006 - val_accuracy: 0.8597 - val_loss: 0.3262\n",
            "Epoch 15/20\n",
            "\u001b[1m282/282\u001b[0m \u001b[32m━━━━━━━━━━━━━━━━━━━━\u001b[0m\u001b[37m\u001b[0m \u001b[1m3s\u001b[0m 11ms/step - accuracy: 0.8918 - loss: 0.3000 - val_accuracy: 0.8761 - val_loss: 0.3167\n",
            "Epoch 16/20\n",
            "\u001b[1m282/282\u001b[0m \u001b[32m━━━━━━━━━━━━━━━━━━━━\u001b[0m\u001b[37m\u001b[0m \u001b[1m4s\u001b[0m 16ms/step - accuracy: 0.8849 - loss: 0.3084 - val_accuracy: 0.8761 - val_loss: 0.3163\n",
            "Epoch 17/20\n",
            "\u001b[1m282/282\u001b[0m \u001b[32m━━━━━━━━━━━━━━━━━━━━\u001b[0m\u001b[37m\u001b[0m \u001b[1m4s\u001b[0m 12ms/step - accuracy: 0.8914 - loss: 0.2934 - val_accuracy: 0.8721 - val_loss: 0.3226\n",
            "Epoch 18/20\n",
            "\u001b[1m282/282\u001b[0m \u001b[32m━━━━━━━━━━━━━━━━━━━━\u001b[0m\u001b[37m\u001b[0m \u001b[1m5s\u001b[0m 12ms/step - accuracy: 0.9012 - loss: 0.2760 - val_accuracy: 0.8761 - val_loss: 0.3071\n",
            "Epoch 19/20\n",
            "\u001b[1m282/282\u001b[0m \u001b[32m━━━━━━━━━━━━━━━━━━━━\u001b[0m\u001b[37m\u001b[0m \u001b[1m5s\u001b[0m 16ms/step - accuracy: 0.8906 - loss: 0.2916 - val_accuracy: 0.8770 - val_loss: 0.3123\n",
            "Epoch 20/20\n",
            "\u001b[1m282/282\u001b[0m \u001b[32m━━━━━━━━━━━━━━━━━━━━\u001b[0m\u001b[37m\u001b[0m \u001b[1m3s\u001b[0m 12ms/step - accuracy: 0.8885 - loss: 0.2920 - val_accuracy: 0.8788 - val_loss: 0.3130\n"
          ]
        },
        {
          "output_type": "execute_result",
          "data": {
            "text/plain": [
              "<keras.src.callbacks.history.History at 0x78c9df32acd0>"
            ]
          },
          "metadata": {},
          "execution_count": 40
        }
      ]
    },
    {
      "cell_type": "code",
      "source": [
        "# Evaluate the Hybrid model\n",
        "eval_results_hybrid = hybrid_model.evaluate(X_test, y_test)\n",
        "print(f\"\\nHybrid CNN-GRU Test Loss: {eval_results_hybrid[0]:.4f}, Test Accuracy: {eval_results_hybrid[1]:.4f}\")"
      ],
      "metadata": {
        "colab": {
          "base_uri": "https://localhost:8080/"
        },
        "id": "zPECOGPLP__n",
        "outputId": "1c441ff2-5c43-493d-f206-940d34ee7005"
      },
      "execution_count": null,
      "outputs": [
        {
          "output_type": "stream",
          "name": "stdout",
          "text": [
            "\u001b[1m71/71\u001b[0m \u001b[32m━━━━━━━━━━━━━━━━━━━━\u001b[0m\u001b[37m\u001b[0m \u001b[1m0s\u001b[0m 4ms/step - accuracy: 0.8798 - loss: 0.3065\n",
            "\n",
            "Hybrid CNN-GRU Test Loss: 0.3130, Test Accuracy: 0.8788\n"
          ]
        }
      ]
    },
    {
      "cell_type": "code",
      "source": [
        "# prompt: save all 3 models as.   .pkl  files\n",
        "\n",
        "import pickle\n",
        "\n",
        "# Save the GRU model\n",
        "with open('gru_model.pkl', 'wb') as file:\n",
        "    pickle.dump(gru_model, file)\n",
        "\n",
        "# Save the CNN model\n",
        "with open('cnn_model.pkl', 'wb') as file:\n",
        "    pickle.dump(cnn_model, file)\n",
        "\n",
        "# Save the Hybrid CNN-GRU model\n",
        "with open('hybrid_model.pkl', 'wb') as file:\n",
        "    pickle.dump(hybrid_model, file)\n"
      ],
      "metadata": {
        "id": "7ENmr-XK_YDc"
      },
      "execution_count": null,
      "outputs": []
    },
    {
      "cell_type": "code",
      "source": [
        "import pickle\n",
        "\n",
        "# Save the GRU model\n",
        "with open('gru_model.pkl', 'wb') as file:\n",
        "    pickle.dump(gru_model, file)\n"
      ],
      "metadata": {
        "id": "cxvZgDxiAN_R"
      },
      "execution_count": null,
      "outputs": []
    },
    {
      "cell_type": "code",
      "source": [
        "import pickle\n",
        "\n",
        "# Save the CNN model\n",
        "with open('cnn_model.pkl', 'wb') as file:\n",
        "    pickle.dump(cnn_model, file)\n"
      ],
      "metadata": {
        "id": "htcF9couD8jn"
      },
      "execution_count": null,
      "outputs": []
    },
    {
      "cell_type": "code",
      "source": [
        "import numpy as np\n",
        "import pandas as pd\n",
        "import pickle\n",
        "from sklearn.model_selection import train_test_split\n",
        "from sklearn.ensemble import RandomForestClassifier\n",
        "from sklearn.preprocessing import MinMaxScaler\n",
        "\n",
        "# Load dataset\n",
        "file_path = \"/Dataset-2.xlsx\"\n",
        "xls = pd.ExcelFile(file_path)\n",
        "df = pd.read_excel(xls, sheet_name='Worksheet')\n",
        "\n",
        "# Preprocessing\n",
        "df['status'] = df['status'].map({'legitimate': 0, 'phishing': 1})\n",
        "df.drop(columns=['url'], inplace=True)\n",
        "df.drop_duplicates(inplace=True)\n",
        "\n",
        "# Selecting key features\n",
        "selected_features = [\n",
        "    'length_url', 'nb_dots', 'nb_hyphens', 'https_token', 'prefix_suffix',\n",
        "    'random_domain', 'shortening_service', 'nb_redirection', 'web_traffic',\n",
        "    'dns_record', 'google_index', 'page_rank', 'domain_age'\n",
        "]\n",
        "X = df[selected_features]\n",
        "y = df['status']\n",
        "\n",
        "# Normalize data\n",
        "scaler = MinMaxScaler()\n",
        "X = scaler.fit_transform(X)\n",
        "\n",
        "# Train/test split\n",
        "X_train, X_test, y_train, y_test = train_test_split(X, y, test_size=0.2, random_state=42)\n",
        "\n",
        "# Train the Random Forest model\n",
        "rf_model = RandomForestClassifier(n_estimators=100, random_state=42)\n",
        "rf_model.fit(X_train, y_train)\n",
        "\n",
        "# Save the model\n",
        "with open(\"model/rf_model.pkl\", \"wb\") as model_file:\n",
        "    pickle.dump(rf_model, model_file)\n",
        "\n",
        "# Save the scaler\n",
        "with open(\"model/scaler.pkl\", \"wb\") as scaler_file:\n",
        "    pickle.dump(scaler, scaler_file)\n",
        "\n",
        "print(\"✅ Model trained and saved successfully!\")\n"
      ],
      "metadata": {
        "id": "kCyyx6CkEimL",
        "colab": {
          "base_uri": "https://localhost:8080/",
          "height": 216
        },
        "outputId": "b56d60e4-ba4d-47ba-ca0d-9e1af80843c2"
      },
      "execution_count": null,
      "outputs": [
        {
          "output_type": "error",
          "ename": "FileNotFoundError",
          "evalue": "[Errno 2] No such file or directory: 'model/rf_model.pkl'",
          "traceback": [
            "\u001b[0;31m---------------------------------------------------------------------------\u001b[0m",
            "\u001b[0;31mFileNotFoundError\u001b[0m                         Traceback (most recent call last)",
            "\u001b[0;32m<ipython-input-1-2f144d751bc2>\u001b[0m in \u001b[0;36m<cell line: 0>\u001b[0;34m()\u001b[0m\n\u001b[1;32m     37\u001b[0m \u001b[0;34m\u001b[0m\u001b[0m\n\u001b[1;32m     38\u001b[0m \u001b[0;31m# Save the model\u001b[0m\u001b[0;34m\u001b[0m\u001b[0;34m\u001b[0m\u001b[0m\n\u001b[0;32m---> 39\u001b[0;31m \u001b[0;32mwith\u001b[0m \u001b[0mopen\u001b[0m\u001b[0;34m(\u001b[0m\u001b[0;34m\"model/rf_model.pkl\"\u001b[0m\u001b[0;34m,\u001b[0m \u001b[0;34m\"wb\"\u001b[0m\u001b[0;34m)\u001b[0m \u001b[0;32mas\u001b[0m \u001b[0mmodel_file\u001b[0m\u001b[0;34m:\u001b[0m\u001b[0;34m\u001b[0m\u001b[0;34m\u001b[0m\u001b[0m\n\u001b[0m\u001b[1;32m     40\u001b[0m     \u001b[0mpickle\u001b[0m\u001b[0;34m.\u001b[0m\u001b[0mdump\u001b[0m\u001b[0;34m(\u001b[0m\u001b[0mrf_model\u001b[0m\u001b[0;34m,\u001b[0m \u001b[0mmodel_file\u001b[0m\u001b[0;34m)\u001b[0m\u001b[0;34m\u001b[0m\u001b[0;34m\u001b[0m\u001b[0m\n\u001b[1;32m     41\u001b[0m \u001b[0;34m\u001b[0m\u001b[0m\n",
            "\u001b[0;31mFileNotFoundError\u001b[0m: [Errno 2] No such file or directory: 'model/rf_model.pkl'"
          ]
        }
      ]
    }
  ]
}